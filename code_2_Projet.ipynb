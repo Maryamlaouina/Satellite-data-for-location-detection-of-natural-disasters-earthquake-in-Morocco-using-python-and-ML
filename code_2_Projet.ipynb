{
  "nbformat": 4,
  "nbformat_minor": 0,
  "metadata": {
    "colab": {
      "provenance": []
    },
    "kernelspec": {
      "name": "python3",
      "display_name": "Python 3"
    },
    "language_info": {
      "name": "python"
    }
  },
  "cells": [
    {
      "cell_type": "code",
      "execution_count": 1,
      "metadata": {
        "id": "1gccVHvC-bP5"
      },
      "outputs": [],
      "source": [
        "import pandas as pd\n"
      ]
    },
    {
      "cell_type": "code",
      "source": [
        "data = pd.read_csv(\"/content/full_data.csv\")"
      ],
      "metadata": {
        "id": "jFxtAPx8-l5N"
      },
      "execution_count": 73,
      "outputs": []
    },
    {
      "cell_type": "code",
      "source": [
        "data.head()"
      ],
      "metadata": {
        "colab": {
          "base_uri": "https://localhost:8080/",
          "height": 206
        },
        "id": "uhYHDgVa-yit",
        "outputId": "3fb6d77b-154b-4dc5-91e3-2c64fd54569e"
      },
      "execution_count": 3,
      "outputs": [
        {
          "output_type": "execute_result",
          "data": {
            "text/plain": [
              "    Settlement         Main_Dmg        f         g\n",
              "0  Ait Othmane  Possible damage -8.40655  31.16093\n",
              "1  Ait Othmane           Damage -8.40728  31.15985\n",
              "2  Ait Othmane           Damage -8.40648  31.16065\n",
              "3  Ait Othmane           Damage -8.40631  31.16064\n",
              "4  Ait Othmane  Possible damage -8.40649  31.16052"
            ],
            "text/html": [
              "\n",
              "  <div id=\"df-19ba2f8e-de55-4335-a31a-fb6342502656\" class=\"colab-df-container\">\n",
              "    <div>\n",
              "<style scoped>\n",
              "    .dataframe tbody tr th:only-of-type {\n",
              "        vertical-align: middle;\n",
              "    }\n",
              "\n",
              "    .dataframe tbody tr th {\n",
              "        vertical-align: top;\n",
              "    }\n",
              "\n",
              "    .dataframe thead th {\n",
              "        text-align: right;\n",
              "    }\n",
              "</style>\n",
              "<table border=\"1\" class=\"dataframe\">\n",
              "  <thead>\n",
              "    <tr style=\"text-align: right;\">\n",
              "      <th></th>\n",
              "      <th>Settlement</th>\n",
              "      <th>Main_Dmg</th>\n",
              "      <th>f</th>\n",
              "      <th>g</th>\n",
              "    </tr>\n",
              "  </thead>\n",
              "  <tbody>\n",
              "    <tr>\n",
              "      <th>0</th>\n",
              "      <td>Ait Othmane</td>\n",
              "      <td>Possible damage</td>\n",
              "      <td>-8.40655</td>\n",
              "      <td>31.16093</td>\n",
              "    </tr>\n",
              "    <tr>\n",
              "      <th>1</th>\n",
              "      <td>Ait Othmane</td>\n",
              "      <td>Damage</td>\n",
              "      <td>-8.40728</td>\n",
              "      <td>31.15985</td>\n",
              "    </tr>\n",
              "    <tr>\n",
              "      <th>2</th>\n",
              "      <td>Ait Othmane</td>\n",
              "      <td>Damage</td>\n",
              "      <td>-8.40648</td>\n",
              "      <td>31.16065</td>\n",
              "    </tr>\n",
              "    <tr>\n",
              "      <th>3</th>\n",
              "      <td>Ait Othmane</td>\n",
              "      <td>Damage</td>\n",
              "      <td>-8.40631</td>\n",
              "      <td>31.16064</td>\n",
              "    </tr>\n",
              "    <tr>\n",
              "      <th>4</th>\n",
              "      <td>Ait Othmane</td>\n",
              "      <td>Possible damage</td>\n",
              "      <td>-8.40649</td>\n",
              "      <td>31.16052</td>\n",
              "    </tr>\n",
              "  </tbody>\n",
              "</table>\n",
              "</div>\n",
              "    <div class=\"colab-df-buttons\">\n",
              "\n",
              "  <div class=\"colab-df-container\">\n",
              "    <button class=\"colab-df-convert\" onclick=\"convertToInteractive('df-19ba2f8e-de55-4335-a31a-fb6342502656')\"\n",
              "            title=\"Convert this dataframe to an interactive table.\"\n",
              "            style=\"display:none;\">\n",
              "\n",
              "  <svg xmlns=\"http://www.w3.org/2000/svg\" height=\"24px\" viewBox=\"0 -960 960 960\">\n",
              "    <path d=\"M120-120v-720h720v720H120Zm60-500h600v-160H180v160Zm220 220h160v-160H400v160Zm0 220h160v-160H400v160ZM180-400h160v-160H180v160Zm440 0h160v-160H620v160ZM180-180h160v-160H180v160Zm440 0h160v-160H620v160Z\"/>\n",
              "  </svg>\n",
              "    </button>\n",
              "\n",
              "  <style>\n",
              "    .colab-df-container {\n",
              "      display:flex;\n",
              "      gap: 12px;\n",
              "    }\n",
              "\n",
              "    .colab-df-convert {\n",
              "      background-color: #E8F0FE;\n",
              "      border: none;\n",
              "      border-radius: 50%;\n",
              "      cursor: pointer;\n",
              "      display: none;\n",
              "      fill: #1967D2;\n",
              "      height: 32px;\n",
              "      padding: 0 0 0 0;\n",
              "      width: 32px;\n",
              "    }\n",
              "\n",
              "    .colab-df-convert:hover {\n",
              "      background-color: #E2EBFA;\n",
              "      box-shadow: 0px 1px 2px rgba(60, 64, 67, 0.3), 0px 1px 3px 1px rgba(60, 64, 67, 0.15);\n",
              "      fill: #174EA6;\n",
              "    }\n",
              "\n",
              "    .colab-df-buttons div {\n",
              "      margin-bottom: 4px;\n",
              "    }\n",
              "\n",
              "    [theme=dark] .colab-df-convert {\n",
              "      background-color: #3B4455;\n",
              "      fill: #D2E3FC;\n",
              "    }\n",
              "\n",
              "    [theme=dark] .colab-df-convert:hover {\n",
              "      background-color: #434B5C;\n",
              "      box-shadow: 0px 1px 3px 1px rgba(0, 0, 0, 0.15);\n",
              "      filter: drop-shadow(0px 1px 2px rgba(0, 0, 0, 0.3));\n",
              "      fill: #FFFFFF;\n",
              "    }\n",
              "  </style>\n",
              "\n",
              "    <script>\n",
              "      const buttonEl =\n",
              "        document.querySelector('#df-19ba2f8e-de55-4335-a31a-fb6342502656 button.colab-df-convert');\n",
              "      buttonEl.style.display =\n",
              "        google.colab.kernel.accessAllowed ? 'block' : 'none';\n",
              "\n",
              "      async function convertToInteractive(key) {\n",
              "        const element = document.querySelector('#df-19ba2f8e-de55-4335-a31a-fb6342502656');\n",
              "        const dataTable =\n",
              "          await google.colab.kernel.invokeFunction('convertToInteractive',\n",
              "                                                    [key], {});\n",
              "        if (!dataTable) return;\n",
              "\n",
              "        const docLinkHtml = 'Like what you see? Visit the ' +\n",
              "          '<a target=\"_blank\" href=https://colab.research.google.com/notebooks/data_table.ipynb>data table notebook</a>'\n",
              "          + ' to learn more about interactive tables.';\n",
              "        element.innerHTML = '';\n",
              "        dataTable['output_type'] = 'display_data';\n",
              "        await google.colab.output.renderOutput(dataTable, element);\n",
              "        const docLink = document.createElement('div');\n",
              "        docLink.innerHTML = docLinkHtml;\n",
              "        element.appendChild(docLink);\n",
              "      }\n",
              "    </script>\n",
              "  </div>\n",
              "\n",
              "\n",
              "<div id=\"df-80d3a881-4184-446d-bbfb-6f5356febced\">\n",
              "  <button class=\"colab-df-quickchart\" onclick=\"quickchart('df-80d3a881-4184-446d-bbfb-6f5356febced')\"\n",
              "            title=\"Suggest charts\"\n",
              "            style=\"display:none;\">\n",
              "\n",
              "<svg xmlns=\"http://www.w3.org/2000/svg\" height=\"24px\"viewBox=\"0 0 24 24\"\n",
              "     width=\"24px\">\n",
              "    <g>\n",
              "        <path d=\"M19 3H5c-1.1 0-2 .9-2 2v14c0 1.1.9 2 2 2h14c1.1 0 2-.9 2-2V5c0-1.1-.9-2-2-2zM9 17H7v-7h2v7zm4 0h-2V7h2v10zm4 0h-2v-4h2v4z\"/>\n",
              "    </g>\n",
              "</svg>\n",
              "  </button>\n",
              "\n",
              "<style>\n",
              "  .colab-df-quickchart {\n",
              "      --bg-color: #E8F0FE;\n",
              "      --fill-color: #1967D2;\n",
              "      --hover-bg-color: #E2EBFA;\n",
              "      --hover-fill-color: #174EA6;\n",
              "      --disabled-fill-color: #AAA;\n",
              "      --disabled-bg-color: #DDD;\n",
              "  }\n",
              "\n",
              "  [theme=dark] .colab-df-quickchart {\n",
              "      --bg-color: #3B4455;\n",
              "      --fill-color: #D2E3FC;\n",
              "      --hover-bg-color: #434B5C;\n",
              "      --hover-fill-color: #FFFFFF;\n",
              "      --disabled-bg-color: #3B4455;\n",
              "      --disabled-fill-color: #666;\n",
              "  }\n",
              "\n",
              "  .colab-df-quickchart {\n",
              "    background-color: var(--bg-color);\n",
              "    border: none;\n",
              "    border-radius: 50%;\n",
              "    cursor: pointer;\n",
              "    display: none;\n",
              "    fill: var(--fill-color);\n",
              "    height: 32px;\n",
              "    padding: 0;\n",
              "    width: 32px;\n",
              "  }\n",
              "\n",
              "  .colab-df-quickchart:hover {\n",
              "    background-color: var(--hover-bg-color);\n",
              "    box-shadow: 0 1px 2px rgba(60, 64, 67, 0.3), 0 1px 3px 1px rgba(60, 64, 67, 0.15);\n",
              "    fill: var(--button-hover-fill-color);\n",
              "  }\n",
              "\n",
              "  .colab-df-quickchart-complete:disabled,\n",
              "  .colab-df-quickchart-complete:disabled:hover {\n",
              "    background-color: var(--disabled-bg-color);\n",
              "    fill: var(--disabled-fill-color);\n",
              "    box-shadow: none;\n",
              "  }\n",
              "\n",
              "  .colab-df-spinner {\n",
              "    border: 2px solid var(--fill-color);\n",
              "    border-color: transparent;\n",
              "    border-bottom-color: var(--fill-color);\n",
              "    animation:\n",
              "      spin 1s steps(1) infinite;\n",
              "  }\n",
              "\n",
              "  @keyframes spin {\n",
              "    0% {\n",
              "      border-color: transparent;\n",
              "      border-bottom-color: var(--fill-color);\n",
              "      border-left-color: var(--fill-color);\n",
              "    }\n",
              "    20% {\n",
              "      border-color: transparent;\n",
              "      border-left-color: var(--fill-color);\n",
              "      border-top-color: var(--fill-color);\n",
              "    }\n",
              "    30% {\n",
              "      border-color: transparent;\n",
              "      border-left-color: var(--fill-color);\n",
              "      border-top-color: var(--fill-color);\n",
              "      border-right-color: var(--fill-color);\n",
              "    }\n",
              "    40% {\n",
              "      border-color: transparent;\n",
              "      border-right-color: var(--fill-color);\n",
              "      border-top-color: var(--fill-color);\n",
              "    }\n",
              "    60% {\n",
              "      border-color: transparent;\n",
              "      border-right-color: var(--fill-color);\n",
              "    }\n",
              "    80% {\n",
              "      border-color: transparent;\n",
              "      border-right-color: var(--fill-color);\n",
              "      border-bottom-color: var(--fill-color);\n",
              "    }\n",
              "    90% {\n",
              "      border-color: transparent;\n",
              "      border-bottom-color: var(--fill-color);\n",
              "    }\n",
              "  }\n",
              "</style>\n",
              "\n",
              "  <script>\n",
              "    async function quickchart(key) {\n",
              "      const quickchartButtonEl =\n",
              "        document.querySelector('#' + key + ' button');\n",
              "      quickchartButtonEl.disabled = true;  // To prevent multiple clicks.\n",
              "      quickchartButtonEl.classList.add('colab-df-spinner');\n",
              "      try {\n",
              "        const charts = await google.colab.kernel.invokeFunction(\n",
              "            'suggestCharts', [key], {});\n",
              "      } catch (error) {\n",
              "        console.error('Error during call to suggestCharts:', error);\n",
              "      }\n",
              "      quickchartButtonEl.classList.remove('colab-df-spinner');\n",
              "      quickchartButtonEl.classList.add('colab-df-quickchart-complete');\n",
              "    }\n",
              "    (() => {\n",
              "      let quickchartButtonEl =\n",
              "        document.querySelector('#df-80d3a881-4184-446d-bbfb-6f5356febced button');\n",
              "      quickchartButtonEl.style.display =\n",
              "        google.colab.kernel.accessAllowed ? 'block' : 'none';\n",
              "    })();\n",
              "  </script>\n",
              "</div>\n",
              "\n",
              "    </div>\n",
              "  </div>\n"
            ]
          },
          "metadata": {},
          "execution_count": 3
        }
      ]
    },
    {
      "cell_type": "code",
      "source": [
        "import numpy as np\n",
        "import pandas as pd\n",
        "from sklearn.model_selection import train_test_split\n",
        "from sklearn.preprocessing import LabelEncoder\n",
        "from tensorflow.keras.models import Sequential\n",
        "from tensorflow.keras.layers import LSTM, Dense, Embedding\n",
        "\n",
        "from tensorflow.keras.models import Sequential\n",
        "from tensorflow.keras.layers import LSTM, Dense, Dropout"
      ],
      "metadata": {
        "id": "Dj1kNzk7Lke9"
      },
      "execution_count": 9,
      "outputs": []
    },
    {
      "cell_type": "code",
      "source": [
        "# Encoder les labels\n",
        "label_encoder = LabelEncoder()\n",
        "data['Main_Dmg'] = label_encoder.fit_transform(data['Main_Dmg'])\n"
      ],
      "metadata": {
        "id": "7xHxvQd0LrS1"
      },
      "execution_count": 55,
      "outputs": []
    },
    {
      "cell_type": "code",
      "source": [
        "\n",
        "# Diviser le dataset en ensembles d'entraînement et de test\n",
        "X = data[['f', 'g']].values\n",
        "y = data['Main_Dmg'].values\n",
        "X_train, X_test, y_train, y_test = train_test_split(X, y, test_size=0.2, random_state=42)\n"
      ],
      "metadata": {
        "id": "gqdYtuJgLuTq"
      },
      "execution_count": 56,
      "outputs": []
    },
    {
      "cell_type": "code",
      "source": [
        "\n",
        "# Normaliser les données\n",
        "mean = X_train.mean(axis=0)\n",
        "std = X_train.std(axis=0)\n",
        "X_train = (X_train - mean) / std\n",
        "X_test = (X_test - mean) / std\n"
      ],
      "metadata": {
        "id": "q2IXmY7PLxC8"
      },
      "execution_count": 57,
      "outputs": []
    },
    {
      "cell_type": "code",
      "source": [
        "# Créer le modèle RNN\n",
        "model = Sequential()\n",
        "# model.add(LSTM(32, input_shape=(X_train.shape[1], 1)))\n",
        "\n",
        "# Première couche LSTM avec dropout\n",
        "model.add(LSTM(128, return_sequences=True, input_shape=(X_train.shape[1], 1)))\n",
        "model.add(Dropout(0.2))\n",
        "\n",
        "# Deuxième couche LSTM avec dropout\n",
        "model.add(LSTM(128, return_sequences=True))\n",
        "model.add(Dropout(0.2))\n",
        "\n",
        "# Troisième couche LSTM avec dropout\n",
        "model.add(LSTM(64))\n",
        "model.add(Dropout(0.2))\n",
        "\n",
        "# Couche entièrement connectée (Dense)\n",
        "model.add(Dense(64, activation='relu'))\n",
        "model.add(Dense(128, activation='relu'))\n",
        "model.add(Dense(64, activation='relu'))\n",
        "# model.add(Dense(128, activation='relu'))\n",
        "# model.add(Dense(64, activation='relu'))\n",
        "\n",
        "\n",
        "model.add(Dropout(0.5))\n",
        "\n",
        "model.add(Dense(2, activation='sigmoid'))"
      ],
      "metadata": {
        "id": "afZJ3Nz0L2BQ"
      },
      "execution_count": 65,
      "outputs": []
    },
    {
      "cell_type": "code",
      "source": [
        "# Compiler le modèle\n",
        "# model.compile(optimizer='adam', loss='binary_crossentropy', metrics=['accuracy'])\n",
        "# Compiler le modèle\n",
        "model.compile(optimizer='adam', loss='sparse_categorical_crossentropy', metrics=['accuracy'])\n"
      ],
      "metadata": {
        "id": "Fnq82R4AL5R1"
      },
      "execution_count": 66,
      "outputs": []
    },
    {
      "cell_type": "code",
      "source": [
        "\n",
        "# Adapter le modèle aux données d'entraînement\n",
        "history=model.fit(X_train.reshape((X_train.shape[0], X_train.shape[1], 1)), y_train, epochs=50, batch_size=1, verbose=2)\n"
      ],
      "metadata": {
        "colab": {
          "base_uri": "https://localhost:8080/"
        },
        "id": "cmAs19mZL88c",
        "outputId": "894d364f-0c97-4846-e578-34f93c2657ef"
      },
      "execution_count": 67,
      "outputs": [
        {
          "output_type": "stream",
          "name": "stdout",
          "text": [
            "Epoch 1/50\n",
            "3843/3843 - 42s - loss: 0.6374 - accuracy: 0.6648 - 42s/epoch - 11ms/step\n",
            "Epoch 2/50\n",
            "3843/3843 - 42s - loss: 0.6248 - accuracy: 0.6745 - 42s/epoch - 11ms/step\n",
            "Epoch 3/50\n",
            "3843/3843 - 36s - loss: 0.6194 - accuracy: 0.6805 - 36s/epoch - 9ms/step\n",
            "Epoch 4/50\n",
            "3843/3843 - 35s - loss: 0.6174 - accuracy: 0.6799 - 35s/epoch - 9ms/step\n",
            "Epoch 5/50\n",
            "3843/3843 - 36s - loss: 0.6161 - accuracy: 0.6864 - 36s/epoch - 9ms/step\n",
            "Epoch 6/50\n",
            "3843/3843 - 38s - loss: 0.6144 - accuracy: 0.6862 - 38s/epoch - 10ms/step\n",
            "Epoch 7/50\n",
            "3843/3843 - 35s - loss: 0.6161 - accuracy: 0.6789 - 35s/epoch - 9ms/step\n",
            "Epoch 8/50\n",
            "3843/3843 - 37s - loss: 0.6164 - accuracy: 0.6760 - 37s/epoch - 10ms/step\n",
            "Epoch 9/50\n",
            "3843/3843 - 37s - loss: 0.6130 - accuracy: 0.6867 - 37s/epoch - 10ms/step\n",
            "Epoch 10/50\n",
            "3843/3843 - 35s - loss: 0.6148 - accuracy: 0.6870 - 35s/epoch - 9ms/step\n",
            "Epoch 11/50\n",
            "3843/3843 - 37s - loss: 0.6151 - accuracy: 0.6836 - 37s/epoch - 10ms/step\n",
            "Epoch 12/50\n",
            "3843/3843 - 36s - loss: 0.6139 - accuracy: 0.6828 - 36s/epoch - 9ms/step\n",
            "Epoch 13/50\n",
            "3843/3843 - 36s - loss: 0.6151 - accuracy: 0.6810 - 36s/epoch - 9ms/step\n",
            "Epoch 14/50\n",
            "3843/3843 - 36s - loss: 0.6101 - accuracy: 0.6849 - 36s/epoch - 9ms/step\n",
            "Epoch 15/50\n",
            "3843/3843 - 37s - loss: 0.6126 - accuracy: 0.6836 - 37s/epoch - 10ms/step\n",
            "Epoch 16/50\n",
            "3843/3843 - 36s - loss: 0.6132 - accuracy: 0.6854 - 36s/epoch - 9ms/step\n",
            "Epoch 17/50\n",
            "3843/3843 - 36s - loss: 0.6102 - accuracy: 0.6927 - 36s/epoch - 9ms/step\n",
            "Epoch 18/50\n",
            "3843/3843 - 36s - loss: 0.6099 - accuracy: 0.6870 - 36s/epoch - 9ms/step\n",
            "Epoch 19/50\n",
            "3843/3843 - 35s - loss: 0.6137 - accuracy: 0.6820 - 35s/epoch - 9ms/step\n",
            "Epoch 20/50\n",
            "3843/3843 - 36s - loss: 0.6152 - accuracy: 0.6844 - 36s/epoch - 9ms/step\n",
            "Epoch 21/50\n",
            "3843/3843 - 36s - loss: 0.6120 - accuracy: 0.6854 - 36s/epoch - 9ms/step\n",
            "Epoch 22/50\n",
            "3843/3843 - 38s - loss: 0.6125 - accuracy: 0.6870 - 38s/epoch - 10ms/step\n",
            "Epoch 23/50\n",
            "3843/3843 - 38s - loss: 0.6108 - accuracy: 0.6870 - 38s/epoch - 10ms/step\n",
            "Epoch 24/50\n",
            "3843/3843 - 39s - loss: 0.6127 - accuracy: 0.6862 - 39s/epoch - 10ms/step\n",
            "Epoch 25/50\n",
            "3843/3843 - 38s - loss: 0.6105 - accuracy: 0.6932 - 38s/epoch - 10ms/step\n",
            "Epoch 26/50\n",
            "3843/3843 - 38s - loss: 0.6137 - accuracy: 0.6825 - 38s/epoch - 10ms/step\n",
            "Epoch 27/50\n",
            "3843/3843 - 37s - loss: 0.6115 - accuracy: 0.6940 - 37s/epoch - 10ms/step\n",
            "Epoch 28/50\n",
            "3843/3843 - 38s - loss: 0.6155 - accuracy: 0.6823 - 38s/epoch - 10ms/step\n",
            "Epoch 29/50\n",
            "3843/3843 - 39s - loss: 0.6089 - accuracy: 0.6870 - 39s/epoch - 10ms/step\n",
            "Epoch 30/50\n",
            "3843/3843 - 38s - loss: 0.6076 - accuracy: 0.6864 - 38s/epoch - 10ms/step\n",
            "Epoch 31/50\n",
            "3843/3843 - 38s - loss: 0.6041 - accuracy: 0.6849 - 38s/epoch - 10ms/step\n",
            "Epoch 32/50\n",
            "3843/3843 - 37s - loss: 0.6066 - accuracy: 0.6864 - 37s/epoch - 10ms/step\n",
            "Epoch 33/50\n",
            "3843/3843 - 37s - loss: 0.6073 - accuracy: 0.6825 - 37s/epoch - 10ms/step\n",
            "Epoch 34/50\n",
            "3843/3843 - 37s - loss: 0.6015 - accuracy: 0.6820 - 37s/epoch - 10ms/step\n",
            "Epoch 35/50\n",
            "3843/3843 - 37s - loss: 0.6038 - accuracy: 0.6849 - 37s/epoch - 10ms/step\n",
            "Epoch 36/50\n",
            "3843/3843 - 35s - loss: 0.5995 - accuracy: 0.6836 - 35s/epoch - 9ms/step\n",
            "Epoch 37/50\n",
            "3843/3843 - 36s - loss: 0.6051 - accuracy: 0.6867 - 36s/epoch - 9ms/step\n",
            "Epoch 38/50\n",
            "3843/3843 - 37s - loss: 0.5989 - accuracy: 0.6890 - 37s/epoch - 10ms/step\n",
            "Epoch 39/50\n",
            "3843/3843 - 38s - loss: 0.5988 - accuracy: 0.6833 - 38s/epoch - 10ms/step\n",
            "Epoch 40/50\n",
            "3843/3843 - 38s - loss: 0.6017 - accuracy: 0.6836 - 38s/epoch - 10ms/step\n",
            "Epoch 41/50\n",
            "3843/3843 - 38s - loss: 0.5941 - accuracy: 0.6911 - 38s/epoch - 10ms/step\n",
            "Epoch 42/50\n",
            "3843/3843 - 37s - loss: 0.5973 - accuracy: 0.6872 - 37s/epoch - 10ms/step\n",
            "Epoch 43/50\n",
            "3843/3843 - 37s - loss: 0.5973 - accuracy: 0.6911 - 37s/epoch - 10ms/step\n",
            "Epoch 44/50\n",
            "3843/3843 - 36s - loss: 0.6025 - accuracy: 0.6789 - 36s/epoch - 9ms/step\n",
            "Epoch 45/50\n",
            "3843/3843 - 38s - loss: 0.5960 - accuracy: 0.6950 - 38s/epoch - 10ms/step\n",
            "Epoch 46/50\n",
            "3843/3843 - 37s - loss: 0.5952 - accuracy: 0.6820 - 37s/epoch - 10ms/step\n",
            "Epoch 47/50\n",
            "3843/3843 - 37s - loss: 0.5954 - accuracy: 0.6893 - 37s/epoch - 10ms/step\n",
            "Epoch 48/50\n",
            "3843/3843 - 37s - loss: 0.5964 - accuracy: 0.6919 - 37s/epoch - 10ms/step\n",
            "Epoch 49/50\n",
            "3843/3843 - 37s - loss: 0.5933 - accuracy: 0.6919 - 37s/epoch - 10ms/step\n",
            "Epoch 50/50\n",
            "3843/3843 - 36s - loss: 0.5941 - accuracy: 0.6864 - 36s/epoch - 9ms/step\n"
          ]
        }
      ]
    },
    {
      "cell_type": "code",
      "source": [
        "# Évaluer le modèle sur les données de test\n",
        "loss, accuracy = model.evaluate(X_test.reshape((X_test.shape[0], X_test.shape[1], 1)), y_test)\n",
        "print(f'Accuracy: {accuracy * 100:.2f}%')\n"
      ],
      "metadata": {
        "colab": {
          "base_uri": "https://localhost:8080/"
        },
        "id": "hsFqQ3Kj_erN",
        "outputId": "a6900c1a-b0d9-4a0b-c991-1372e4461f6c"
      },
      "execution_count": 68,
      "outputs": [
        {
          "output_type": "stream",
          "name": "stdout",
          "text": [
            "31/31 [==============================] - 2s 9ms/step - loss: 0.5847 - accuracy: 0.6826\n",
            "Accuracy: 68.26%\n"
          ]
        }
      ]
    },
    {
      "cell_type": "code",
      "source": [
        "import matplotlib.pyplot as pyplot"
      ],
      "metadata": {
        "id": "pM9lE9w2djr1"
      },
      "execution_count": 69,
      "outputs": []
    },
    {
      "cell_type": "code",
      "source": [
        "pyplot.title('Loss')\n",
        "pyplot.plot(history.history['loss'], label='train')\n",
        "#pyplot.plot(hist.history['val_loss'], label='validation')\n",
        "pyplot.legend()\n",
        "pyplot.show()\n",
        "\n",
        "pyplot.title('Accuracy')\n",
        "pyplot.plot(history.history['accuracy'], label='train')\n",
        "#pyplot.plot(hist.history['val_accuracy'], label='validation')\n",
        "pyplot.legend()\n",
        "pyplot.show()"
      ],
      "metadata": {
        "colab": {
          "base_uri": "https://localhost:8080/",
          "height": 887
        },
        "id": "6xDb4n7tdUtC",
        "outputId": "2b680947-d4a1-477b-ac29-b69789092c72"
      },
      "execution_count": 70,
      "outputs": [
        {
          "output_type": "display_data",
          "data": {
            "text/plain": [
              "<Figure size 640x480 with 1 Axes>"
            ],
            "image/png": "[encoded data removed]"
          },
          "metadata": {}
        },
        {
          "output_type": "display_data",
          "data": {
            "text/plain": [
              "<Figure size 640x480 with 1 Axes>"
            ],
            "image/png": "[encoded data removed]"
          },
          "metadata": {}
        }
      ]
    },
    {
      "cell_type": "code",
      "source": [],
      "metadata": {
        "id": "vfZ1JJDUgv_W"
      },
      "execution_count": null,
      "outputs": []
    },
    {
      "cell_type": "code",
      "source": [
        "\n",
        "# Sauvegarder le modèle au format HDF5\n",
        "model.save('model3.h5')\n",
        "\n",
        "# Charger le modèle à partir du fichier\n",
        "# loaded_model = load_model('model.h5')"
      ],
      "metadata": {
        "id": "XwZ9GwG2PUrq"
      },
      "execution_count": 71,
      "outputs": []
    },
    {
      "cell_type": "code",
      "source": [
        "from sklearn.metrics import jaccard_score\n",
        "\n",
        "# Calculer l'index de similarité Jaccard\n",
        "jaccard_index = jaccard_score(data['Main_Dmg'], y_kmeans)\n",
        "\n",
        "print(f'Jaccard Index: {jaccard_index:.2f}')"
      ],
      "metadata": {
        "colab": {
          "base_uri": "https://localhost:8080/"
        },
        "id": "R7hUJ12Z_Cjj",
        "outputId": "f00500df-8bca-4efe-9fd3-69387e1a7bea"
      },
      "execution_count": 80,
      "outputs": [
        {
          "output_type": "stream",
          "name": "stdout",
          "text": [
            "Jaccard Index: 0.24\n"
          ]
        }
      ]
    },
    {
      "cell_type": "code",
      "source": [
        "from sklearn.metrics import accuracy_score, recall_score, f1_score\n"
      ],
      "metadata": {
        "id": "oTajN2VrTQjK"
      },
      "execution_count": 88,
      "outputs": []
    },
    {
      "cell_type": "code",
      "source": [
        "import numpy as np\n",
        "import pandas as pd\n",
        "from sklearn.model_selection import train_test_split\n",
        "from sklearn.ensemble import RandomForestClassifier\n",
        "from sklearn.metrics import accuracy_score, classification_report, confusion_matrix\n",
        "\n",
        "data = pd.read_csv(\"/content/full_data.csv\")\n",
        "# Encoder les labels\n",
        "label_encoder = LabelEncoder()\n",
        "data['Main_Dmg'] = label_encoder.fit_transform(data['Main_Dmg'])\n",
        "\n",
        "# Diviser le dataset en ensembles d'entraînement et de test\n",
        "X = data[['f', 'g']].values\n",
        "y = data['Main_Dmg'].values\n",
        "X_train, X_test, y_train, y_test = train_test_split(X, y, test_size=0.2, random_state=42)\n",
        "\n",
        "# Créer le modèle Random Forest\n",
        "rf_model = RandomForestClassifier(n_estimators=100, random_state=42)\n",
        "\n",
        "# Entraîner le modèle\n",
        "rf_model.fit(X_train, y_train)\n",
        "\n",
        "# Prédire les étiquettes sur l'ensemble de test\n",
        "y_pred = rf_model.predict(X_test)\n",
        "\n",
        "# Évaluer la performance du modèle\n",
        "accuracy = accuracy_score(y_test, y_pred)\n",
        "conf_matrix = confusion_matrix(y_test, y_pred)\n",
        "classification_rep = classification_report(y_test, y_pred)\n",
        "\n",
        "# print(f'Accuracy: {accuracy * 100:.2f}%')\n",
        "# print('\\nConfusion Matrix:')\n",
        "# print(conf_matrix)\n",
        "# print('\\nClassification Report:')\n",
        "# print(classification_rep)\n",
        "# Calcul de la précision\n",
        "accuracy = accuracy_score(y_test, y_pred)\n",
        "print(\"Précision (Accuracy): {:.2f}%\".format(accuracy * 100))\n",
        "\n",
        "# Calcul du rappel\n",
        "recall = recall_score(y_test, y_pred, average='binary')  # Utilisez 'micro', 'macro', ou 'weighted' si vous avez une classification multiclasse\n",
        "print(\"Rappel (Recall): {:.2f}%\".format(recall * 100))\n",
        "\n",
        "# Calcul de la F1-score\n",
        "f1 = f1_score(y_test, y_pred, average='binary')  # Utilisez 'micro', 'macro', ou 'weighted' si vous avez une classification multiclasse\n",
        "print(\"F1-score: {:.2f}%\".format(f1 * 100))"
      ],
      "metadata": {
        "colab": {
          "base_uri": "https://localhost:8080/"
        },
        "id": "uBsajOmOHxUE",
        "outputId": "83a57474-1a62-4bc3-b2b8-a07730645efe"
      },
      "execution_count": 89,
      "outputs": [
        {
          "output_type": "stream",
          "name": "stdout",
          "text": [
            "Précision (Accuracy): 74.71%\n",
            "Rappel (Recall): 57.18%\n",
            "F1-score: 62.09%\n"
          ]
        }
      ]
    },
    {
      "cell_type": "code",
      "source": [
        "import numpy as np\n",
        "import pandas as pd\n",
        "from sklearn.model_selection import train_test_split\n",
        "from sklearn.svm import SVC\n",
        "from sklearn.metrics import accuracy_score, classification_report, confusion_matrix\n",
        "from sklearn.preprocessing import LabelEncoder\n",
        "\n",
        "data = pd.read_csv(\"/content/full_data.csv\")\n",
        "\n",
        "# Encoder les labels\n",
        "label_encoder = LabelEncoder()\n",
        "data['Main_Dmg'] = label_encoder.fit_transform(data['Main_Dmg'])\n",
        "\n",
        "# Diviser le dataset en ensembles d'entraînement et de test\n",
        "X = data[['f', 'g']].values\n",
        "y = data['Main_Dmg'].values\n",
        "X_train, X_test, y_train, y_test = train_test_split(X, y, test_size=0.2, random_state=42)\n",
        "\n",
        "# Créer le modèle SVM\n",
        "svm_model = SVC(kernel='linear', random_state=42)\n",
        "\n",
        "# Entraîner le modèle\n",
        "svm_model.fit(X_train, y_train)\n",
        "\n",
        "# Prédire les étiquettes sur l'ensemble de test\n",
        "y_pred = svm_model.predict(X_test)\n",
        "\n",
        "# Évaluer la performance du modèle\n",
        "accuracy = accuracy_score(y_test, y_pred)\n",
        "conf_matrix = confusion_matrix(y_test, y_pred)\n",
        "classification_rep = classification_report(y_test, y_pred)\n",
        "\n",
        "print(f'Accuracy: {accuracy * 100:.2f}%')\n",
        "print('\\nConfusion Matrix:')\n",
        "print(conf_matrix)\n",
        "print('\\nClassification Report:')\n",
        "print(classification_rep)\n"
      ],
      "metadata": {
        "colab": {
          "base_uri": "https://localhost:8080/"
        },
        "id": "NMNHvlnoVVCM",
        "outputId": "b031d911-5adf-41bb-e37e-ad6ef5691792"
      },
      "execution_count": 90,
      "outputs": [
        {
          "output_type": "stream",
          "name": "stdout",
          "text": [
            "Accuracy: 67.64%\n",
            "\n",
            "Confusion Matrix:\n",
            "[[587  26]\n",
            " [285  63]]\n",
            "\n",
            "Classification Report:\n",
            "              precision    recall  f1-score   support\n",
            "\n",
            "           0       0.67      0.96      0.79       613\n",
            "           1       0.71      0.18      0.29       348\n",
            "\n",
            "    accuracy                           0.68       961\n",
            "   macro avg       0.69      0.57      0.54       961\n",
            "weighted avg       0.69      0.68      0.61       961\n",
            "\n"
          ]
        }
      ]
    }
  ]
}